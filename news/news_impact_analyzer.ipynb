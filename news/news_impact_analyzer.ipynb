# 安裝 boto3（只需執行一次）
!pip install boto3

# === 1. 載入必要模組 ===
import pandas as pd
import json
import boto3
import re
import os
import hashlib

# === 2. 載入公司清單與新聞資料 ===
df_companies = pd.read_csv("company.txt")  # 須包含 company_name 欄位
company_list = df_companies['company_name'].tolist()

df_news = pd.read_parquet("tej_news.parquet")
df_news.columns = [col.lower() for col in df_news.columns]

# 確保包含日期欄位（可選）
if "date" in df_news.columns:
    df_news["date"] = pd.to_datetime(df_news["date"])
else:
    df_news["date"] = pd.NaT

# 確保欄位為 content
if "content" not in df_news.columns:
    df_news.rename(columns={df_news.columns[0]: "content"}, inplace=True)

# === 3. 公司別名設定 ===
company_alias_dict = {
    "台積電": ["台積", "TSMC", "台灣積體電路"],
    "聯發科": ["MTK", "聯發", "Mediatek"],
    "世芯-KY": ["世芯", "Alchip"]
}
for company in company_list:
    if company not in company_alias_dict:
        company_alias_dict[company] = [company]

# === 4. Claude 設定與快取 ===
cache_dir = "claude_cache"
os.makedirs(cache_dir, exist_ok=True)

CLAUDE_PROMPT_TEMPLATE = """
你是一位資深金融分析師，正在分析以下新聞是否會對該公司股價產生影響。
請針對「股價重大性」從 0 到 1 進行評分，並說明理由。
---
新聞內容：
{news_content}

請輸出：
1. 簡短摘要（最多 80 字）
2. 是否對股價有明顯影響（是/否）
3. 影響屬性（利多 / 利空 / 中性）
4. 重大性分數（0~1，小數點2位）
"""

def hash_content(text: str) -> str:
    return hashlib.md5(text.encode("utf-8")).hexdigest()

def call_claude(prompt: str, model_id="anthropic.claude-3-sonnet-20240229") -> str:
    bedrock = boto3.client("bedrock-runtime", region_name="us-east-1")
    response = bedrock.invoke_model(
        modelId=model_id,
        body=json.dumps({
            "messages": [{"role": "user", "content": prompt}],
            "max_tokens": 500,
            "temperature": 0.2
        }),
        contentType="application/json",
        accept="application/json"
    )
    result = json.loads(response['body'].read())
    return result['content'][0]['text']

def get_claude_cached_response(news_text: str) -> str:
    cache_file = os.path.join(cache_dir, f"{hash_content(news_text[:300])}.json")
    if os.path.exists(cache_file):
        with open(cache_file, "r", encoding="utf-8") as f:
            return json.load(f)["text"]
    prompt = CLAUDE_PROMPT_TEMPLATE.format(news_content=news_text[:1200])
    result_text = call_claude(prompt)
    with open(cache_file, "w", encoding="utf-8") as f:
        json.dump({"text": result_text}, f, ensure_ascii=False)
    return result_text

def analyze_with_claude(news_text: str) -> dict:
    output_text = get_claude_cached_response(news_text)
    lines = output_text.strip().split("\n")
    result = {
        "摘要": lines[0].split("：")[-1].strip() if len(lines) > 0 else "",
        "影響": lines[1].split("：")[-1].strip() if len(lines) > 1 else "",
        "屬性": lines[2].split("：")[-1].strip() if len(lines) > 2 else "",
        "重大性評分": float(re.findall(r"\d+\.\d+", lines[3])[0]) if len(lines) > 3 and re.findall(r"\d+\.\d+", lines[3]) else 0.0
    }
    return result

# === 5. 主流程分析 ===
results = []

for company, aliases in company_alias_dict.items():
    pattern = '|'.join([re.escape(alias) for alias in aliases])
    filtered_news = df_news[df_news['content'].str.contains(pattern, case=False, na=False)].copy()

    for _, row in filtered_news.iterrows():
        analysis = analyze_with_claude(row["content"])
        results.append({
            "公司": company,
            "日期": row["date"].strftime("%Y-%m-%d") if pd.notna(row["date"]) else "",
            "摘要": analysis["摘要"],
            "是否有影響": analysis["影響"],
            "屬性": analysis["屬性"],
            "重大性評分": analysis["重大性評分"],
            "原始新聞": row["content"][:200] + "..."
        })

# === 6. 輸出與展示 ===
df_result = pd.DataFrame(results)
df_result.to_parquet("news_impact_result.parquet", index=False)
df_result.sort_values(["重大性評分", "日期"], ascending=[False, False]).head(10)
